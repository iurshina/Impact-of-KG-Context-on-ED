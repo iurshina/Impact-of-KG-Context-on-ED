{
 "cells": [
  {
   "cell_type": "code",
   "execution_count": 1,
   "metadata": {},
   "outputs": [],
   "source": [
    "import pandas as pd"
   ]
  },
  {
   "cell_type": "code",
   "execution_count": 2,
   "metadata": {},
   "outputs": [],
   "source": [
    "test_df = pd.read_csv('dev.tsv', sep=\"\\t\", names=['id','wikidata_id','text','context','labels'])\n",
    "wrong_pred_df = pd.read_csv('wrong_pred.tsv', sep=\"\\t\", names=['id','labels'], skiprows= 1)"
   ]
  },
  {
   "cell_type": "code",
   "execution_count": 3,
   "metadata": {},
   "outputs": [],
   "source": [
    "wrong_pred_list = wrong_pred_df['id'].tolist()\n",
    "correct_pred_df = pd.DataFrame(columns=['id','wikidata_id','text','context','labels'])\n",
    "i = 0\n",
    "for item in test_df.itertuples():\n",
    "    id_num = item[1]\n",
    "    if id_num not in wrong_pred_list:\n",
    "        wiki_id = item[2]\n",
    "        text = item[3]\n",
    "        context = item[4]\n",
    "        label = item[5]\n",
    "        correct_pred_df.loc[i] = [id_num, wiki_id, text, context, label]\n",
    "        i = i + 1\n",
    "correct_pred_df.to_csv('correct_pred_test_xlnet_without_context.tsv', sep='\\t', index=False, columns=correct_pred_df.columns)"
   ]
  },
  {
   "cell_type": "code",
   "execution_count": 4,
   "metadata": {},
   "outputs": [
    {
     "data": {
      "text/plain": [
       "17715"
      ]
     },
     "execution_count": 4,
     "metadata": {},
     "output_type": "execute_result"
    }
   ],
   "source": [
    "len(correct_pred_df)"
   ]
  },
  {
   "cell_type": "code",
   "execution_count": 5,
   "metadata": {},
   "outputs": [],
   "source": [
    "wrong_pred_list = wrong_pred_df['id'].tolist()\n",
    "correct_pred_df = pd.DataFrame(columns=['id','wikidata_id','text','context','labels'])\n",
    "i = 0\n",
    "for item in test_df.itertuples():\n",
    "    id_num = item[1]\n",
    "    if id_num in wrong_pred_list:\n",
    "        wiki_id = item[2]\n",
    "        text = item[3]\n",
    "        context = item[4]\n",
    "        label = item[5]\n",
    "        correct_pred_df.loc[i] = [id_num, wiki_id, text, context, label]\n",
    "        i = i + 1\n",
    "correct_pred_df.to_csv('wrong_pred_test_xlnet_without_context.tsv', sep='\\t', index=False, columns=correct_pred_df.columns)"
   ]
  },
  {
   "cell_type": "code",
   "execution_count": 6,
   "metadata": {},
   "outputs": [
    {
     "data": {
      "text/plain": [
       "2285"
      ]
     },
     "execution_count": 6,
     "metadata": {},
     "output_type": "execute_result"
    }
   ],
   "source": [
    "len(correct_pred_df)"
   ]
  },
  {
   "cell_type": "code",
   "execution_count": null,
   "metadata": {},
   "outputs": [],
   "source": []
  }
 ],
 "metadata": {
  "kernelspec": {
   "display_name": "Python 3",
   "language": "python",
   "name": "python3"
  },
  "language_info": {
   "codemirror_mode": {
    "name": "ipython",
    "version": 3
   },
   "file_extension": ".py",
   "mimetype": "text/x-python",
   "name": "python",
   "nbconvert_exporter": "python",
   "pygments_lexer": "ipython3",
   "version": "3.7.1"
  }
 },
 "nbformat": 4,
 "nbformat_minor": 2
}
